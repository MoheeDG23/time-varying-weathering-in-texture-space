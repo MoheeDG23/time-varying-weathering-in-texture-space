{
 "cells": [
  {
   "cell_type": "code",
   "execution_count": 1,
   "metadata": {},
   "outputs": [],
   "source": [
    "# !pip3 install memory_profiler opencv-python numpy matplotlib scikit-image\n",
    "\n",
    "# imports\n",
    "import cv2\n",
    "import numpy as np\n",
    "import matplotlib.pyplot as plt\n",
    "import matplotlib.animation as anim\n",
    "import skimage.color\n",
    "import skimage.filters\n",
    "import skimage.io\n",
    "import skimage.feature\n",
    "import skimage.measure\n",
    "import skimage.color\n",
    "\n",
    "from textureTransfer import Construct as transfer_texture\n",
    "%matplotlib inline\n",
    "%load_ext memory_profiler"
   ]
  },
  {
   "cell_type": "markdown",
   "metadata": {},
   "source": [
    "# Utility functions"
   ]
  },
  {
   "cell_type": "code",
   "execution_count": 2,
   "metadata": {},
   "outputs": [],
   "source": [
    "# Scaling or clipping\n",
    "scale = lambda x, top=255: (top * (x - np.min(x))) / (np.max(x) - np.min(x))\n",
    "inrange = lambda x: np.where(x > 255, 255, np.where(x < 0, 0, x))\n",
    "invert = lambda x: np.max(x) - x\n",
    "print_range = lambda x: print(np.min(x), np.max(x))\n",
    "\n",
    "run_tests = False"
   ]
  },
  {
   "cell_type": "markdown",
   "metadata": {},
   "source": [
    "# Image input and pre processing"
   ]
  },
  {
   "cell_type": "code",
   "execution_count": 3,
   "metadata": {},
   "outputs": [],
   "source": [
    "prewitt = [np.array(\n",
    "               [[-1, 0, 1],\n",
    "                [-1, 0, 1],\n",
    "                [-1, 0, 1]]), \n",
    "           np.array(\n",
    "               [[ 1,  1,  1],\n",
    "                [ 0,  0,  0],\n",
    "                [-1, -1, -1]])]\n",
    "\n",
    "def apply_filter(im, filt, zero_padding=False):\n",
    "    \n",
    "    wdth = filt.shape[0]//2\n",
    "    \n",
    "    filt_img = np.zeros(im.shape)\n",
    "    \n",
    "    if zero_padding:\n",
    "        im = np.vstack( (np.zeros( (wdth, im.shape[1]) ), im, np.zeros( (wdth, im.shape[1]) ) ) )\n",
    "        im = np.hstack( (np.zeros( (im.shape[0], wdth) ), im, np.zeros( (im.shape[0], wdth) ) ) )\n",
    "    else:\n",
    "        im = np.vstack(([im[0]]*wdth, im, [im[-1]]*wdth))\n",
    "        im = np.hstack((np.hstack([im[:,0].reshape(-1,1)]*wdth), im, np.hstack([im[:,-1].reshape(-1,1)]*wdth)))\n",
    "\n",
    "    for i in range(wdth, im.shape[0]-wdth):\n",
    "        for j in range(wdth, im.shape[1]-wdth):\n",
    "            filt_img[i-wdth][j-wdth] = np.sum(im[i-wdth:i+wdth+1, j-wdth:j+wdth+1] * filt)\n",
    "    \n",
    "    return np.rint(filt_img)"
   ]
  },
  {
   "cell_type": "code",
   "execution_count": 4,
   "metadata": {},
   "outputs": [],
   "source": [
    "def decouple(img, type=0):\n",
    "    \n",
    "    img = img.astype('float64')\n",
    "    \n",
    "    with np.errstate(divide='ignore', invalid='ignore'):\n",
    "        intensity_layer = np.nan_to_num(np.true_divide(((img[:, :, 0]**2) + (img[:, :, 1]**2) + (img[:, :, 2]**2)) , (img[:,:,0]+img[:, :, 1]+img[:, :, 2])))\n",
    "        intensity_layer = np.rint(intensity_layer).astype('uint8')\n",
    "        \n",
    "        if type < 2:\n",
    "            dx = apply_filter(intensity_layer.astype('float64'), prewitt[0])\n",
    "            dy = apply_filter(intensity_layer.astype('float64'), prewitt[1])\n",
    "        \n",
    "            gradient = np.nan_to_num(np.arctan(dy/dx))\n",
    "        else:\n",
    "            return intensity_layer\n",
    "    \n",
    "    if type == 1:\n",
    "        return gradient\n",
    "    return intensity_layer,gradient"
   ]
  },
  {
   "cell_type": "markdown",
   "metadata": {},
   "source": [
    "# Distance function"
   ]
  },
  {
   "cell_type": "code",
   "execution_count": 5,
   "metadata": {},
   "outputs": [],
   "source": [
    "def distance(sI, sG, tI, tG):\n",
    "\n",
    "    M, N = tI.shape\n",
    "    \n",
    "    Y, X = sI.shape\n",
    "    wdth_y, wdth_x = Y//2, X//2\n",
    "\n",
    "    tI = np.vstack(([tI[0]]*wdth_y, tI, [tI[-1]]*(Y-wdth_y)))\n",
    "    tI = np.hstack((np.hstack([tI[:,0].reshape(-1,1)]*wdth_x), tI, np.hstack([tI[:,-1].reshape(-1,1)]*(X-wdth_x))))\n",
    "\n",
    "    tG = np.vstack(([tG[0]]*wdth_y, tG, [tG[-1]]*(Y-wdth_y)))\n",
    "    tG = np.hstack((np.hstack([tG[:,0].reshape(-1,1)]*wdth_x), tG, np.hstack([tG[:,-1].reshape(-1,1)]*(X-wdth_x))))\n",
    "   \n",
    "    g_img = np.zeros((M, N))\n",
    "    l_img = np.zeros((M, N))\n",
    "   \n",
    "    for i in range(wdth_y, wdth_y+M):\n",
    "        for j in range(wdth_x, wdth_x+N):\n",
    "            try:\n",
    "                g_img[i-wdth_y ,j-wdth_x] = np.average(np.abs(sG - tG[i-wdth_y:i+Y-wdth_y, j-wdth_x:j+X-wdth_x]))\n",
    "                l_img[i-wdth_y ,j-wdth_x] = np.average(np.abs(sI - tI[i-wdth_y:i+Y-wdth_y, j-wdth_x:j+X-wdth_x]))\n",
    "            \n",
    "            except Exception:\n",
    "                print(\"Source shape: \", sG.shape, \"  i, j:\", i, j, \"   Patch shape:\",  tG[i-wdth_y:i+Y-wdth_y, j-wdth_x:j+X-wdth_x].shape)\n",
    "                raise Exception\n",
    "            \n",
    "    return (g_img / np.max(g_img)) + (l_img / np.max(l_img))"
   ]
  },
  {
   "cell_type": "code",
   "execution_count": 6,
   "metadata": {},
   "outputs": [],
   "source": [
    "def inbuilt_distance(sI, sG, tI, tG, scalefactor=True):\n",
    "\n",
    "    M, N = tI.shape\n",
    "    \n",
    "    Y, X = sI.shape\n",
    "    wdth_y, wdth_x = Y//2, X//2\n",
    "    try:\n",
    "        if wdth_y:\n",
    "            tI = np.vstack(([tI[0]]*wdth_y, tI))\n",
    "            tG = np.vstack(([tG[0]]*wdth_y, tG))\n",
    "        if Y-wdth_y-1:\n",
    "            tI = np.vstack((tI, [tI[-1]]*(Y-wdth_y-1)))\n",
    "            tG = np.vstack((tG, [tG[-1]]*(Y-wdth_y-1)))\n",
    "        \n",
    "        if wdth_x:\n",
    "            tI = np.hstack((np.hstack([ tI[:,0].reshape(-1,1)]*wdth_x), tI))\n",
    "            tG = np.hstack((np.hstack([tG[:,0].reshape(-1,1)]*wdth_x), tG))\n",
    "        if X-wdth_x-1:\n",
    "            tI = np.hstack((tI, np.hstack([tI[:,-1].reshape(-1,1)]*(X-wdth_x-1))))\n",
    "            tG = np.hstack((tG, np.hstack([tG[:,-1].reshape(-1,1)]*(X-wdth_x-1))))\n",
    "            \n",
    "    except Exception:\n",
    "        print(\"\\n\", wdth_x, wdth_y, Y-wdth_y-1, X-wdth_x-1)\n",
    "        raise Exception   \n",
    "\n",
    "#     lum = cv2.matchTemplate(tI,sI, cv2.TM_CCOEFF_NORMED)\n",
    "#     grd = cv2.matchTemplate(np.rint(scale(tG)).astype('uint8'), np.rint(scale(sG)).astype('uint8'), cv2.TM_CCOEFF_NORMED)\n",
    "\n",
    "    lum = cv2.matchTemplate(tI,sI, cv2.TM_CCOEFF)\n",
    "    grd = cv2.matchTemplate(np.rint(scale(tG)).astype('uint8'), np.rint(scale(sG)).astype('uint8'), cv2.TM_CCOEFF)\n",
    "\n",
    "    if scalefactor:\n",
    "        return scale(invert(lum+grd), 1)\n",
    "    \n",
    "    return invert(lum+grd)"
   ]
  },
  {
   "cell_type": "code",
   "execution_count": 7,
   "metadata": {},
   "outputs": [],
   "source": [
    "def median_filter(im, k):\n",
    "        \n",
    "    filt_img = np.zeros(im.shape)\n",
    "\n",
    "    wdth = k//2\n",
    "\n",
    "    im = np.vstack(([im[0]]*wdth, im, [im[-1]]*(k-wdth)))\n",
    "    im = np.hstack((np.hstack([im[:,0].reshape(-1,1)]*wdth), im, np.hstack([im[:,-1].reshape(-1,1)]*(k-wdth))))\n",
    "\n",
    "    for j in range(wdth, im.shape[1]-wdth):\n",
    "        for i in range(wdth, im.shape[0]-wdth):\n",
    "            x = np.median(im[i-wdth:i+k-wdth+1, j-wdth:j+k-wdth+1])\n",
    "            filt_img[i-wdth][j-wdth] = x\n",
    "    \n",
    "    return filt_img"
   ]
  },
  {
   "cell_type": "markdown",
   "metadata": {},
   "source": [
    "# Age Map function"
   ]
  },
  {
   "cell_type": "code",
   "execution_count": 8,
   "metadata": {},
   "outputs": [],
   "source": [
    "def age(source_patch, target, K, num_bins=1000):\n",
    "    \n",
    "    sI, sG = source_patch\n",
    "    tI, tG = target\n",
    "    dist_mat = inbuilt_distance(sI, sG, tI, tG, False)\n",
    "\n",
    "    ## Method 1\n",
    "    # discrete = np.rint(scale(dist_mat)).astype('uint8')\n",
    "    # size = sI.shape[0]//2\n",
    "    # size = max(1, size + (1-(size%2)))\n",
    "    # discrete = cv2.medianBlur(discrete, size)\n",
    "\n",
    "    # K_distances = np.sort(np.unique(discrete).flatten())[:K]\n",
    "    # co_ords = []\n",
    "    # for i in K_distances:\n",
    "    #     x, y = np.where(discrete == i)\n",
    "    #     for j in zip(x, y):\n",
    "    #         co_ords.append(j)\n",
    "\n",
    "    # K_neighbours = [dist_mat[x, y] for (x, y) in co_ords]\n",
    "    # K_neighbours = [dist_mat[x, y] for (x, y) in co_ords]\n",
    "\n",
    "    # return np.average(K_neighbours)\n",
    "    \n",
    "    ## Method 2\n",
    "    bins = np.digitize(dist_mat, np.linspace(np.min(dist_mat), np.max(dist_mat), num_bins))\n",
    "    bins_mapped = np.linspace(np.min(dist_mat), np.max(dist_mat), num_bins)[bins-1]\n",
    "    vals, counts = np.unique(bins_mapped, return_counts=True)\n",
    "    cumsum = np.cumsum(counts)\n",
    "    cumsum = cumsum/cumsum[-1]\n",
    "    x, = np.argwhere(cumsum > K)[0]\n",
    "\n",
    "    \n",
    "    K_distances = vals[:x] * counts[:x]\n",
    "    K_distances = np.sum(K_distances)/np.sum(counts[:x])\n",
    "\n",
    "    return K_distances"
   ]
  },
  {
   "cell_type": "code",
   "execution_count": 9,
   "metadata": {},
   "outputs": [],
   "source": [
    "def generate_age_map(I, G, N, K):\n",
    "\n",
    "    age_map = np.zeros(I.shape, dtype=('float64'))\n",
    "\n",
    "    for i in range(0, I.shape[0], N):\n",
    "        for j in range(0, I.shape[1], N):\n",
    "            x1, x2 = i, min(I.shape[0], i+N)\n",
    "            y1, y2 = j, min(I.shape[1], j+N)\n",
    "            age_map[x1:x2, y1:y2] = age( (I[x1:x2, y1:y2], G[x1:x2, y1:y2]) , (I, G), K)\n",
    "\n",
    "    return age_map"
   ]
  },
  {
   "cell_type": "markdown",
   "metadata": {},
   "source": [
    "## Colormap"
   ]
  },
  {
   "cell_type": "code",
   "execution_count": 10,
   "metadata": {},
   "outputs": [],
   "source": [
    "import matplotlib.colors as mcolors\n",
    "\n",
    "\n",
    "def make_colormap(seq):\n",
    "    \"\"\"Return a LinearSegmentedColormap\n",
    "    seq: a sequence of floats and RGB-tuples. The floats should be increasing\n",
    "    and in the interval (0,1).\n",
    "    \"\"\"\n",
    "    seq = [(None,) * 3, 0.0] + list(seq) + [1.0, (None,) * 3]\n",
    "    cdict = {'red': [], 'green': [], 'blue': []}\n",
    "    for i, item in enumerate(seq):\n",
    "        if isinstance(item, float):\n",
    "            r1, g1, b1 = seq[i - 1]\n",
    "            r2, g2, b2 = seq[i + 1]\n",
    "            cdict['red'].append([item, r1, r2])\n",
    "            cdict['green'].append([item, g1, g2])\n",
    "            cdict['blue'].append([item, b1, b2])\n",
    "    return mcolors.LinearSegmentedColormap('CustomMap', cdict)\n",
    "\n",
    "c = mcolors.ColorConverter().to_rgb\n",
    "\n",
    "heatmap = make_colormap([c('blue'), c('aqua'), 0.33, c('aqua'), c('yellow'), 0.66, c('yellow'), c('red')])"
   ]
  },
  {
   "cell_type": "markdown",
   "metadata": {},
   "source": [
    "## ----- Testing for age map -----"
   ]
  },
  {
   "cell_type": "code",
   "execution_count": 11,
   "metadata": {},
   "outputs": [],
   "source": [
    "if run_tests:\n",
    "    inp1 = cv2.imread('../images/input.png')\n",
    "    inp1 = cv2.cvtColor(inp1, cv2.COLOR_BGR2RGB)\n",
    "\n",
    "    details1, gradient1 = decouple(inp1)\n",
    "    \n",
    "    inp2 = cv2.imread('../images/texture3.jpeg')\n",
    "    inp2 = cv2.cvtColor(inp2, cv2.COLOR_BGR2RGB)\n",
    "\n",
    "    details2, gradient2 = decouple(inp2)"
   ]
  },
  {
   "cell_type": "code",
   "execution_count": 12,
   "metadata": {},
   "outputs": [
    {
     "name": "stdout",
     "output_type": "stream",
     "text": [
      "CPU times: user 7 µs, sys: 2 µs, total: 9 µs\n",
      "Wall time: 13.8 µs\n"
     ]
    }
   ],
   "source": [
    "%%time\n",
    "if run_tests:\n",
    "    age_map1 = generate_age_map(details1, gradient1, 20, 100/np.product(details1.shape))\n",
    "    \n",
    "    # Plotting Age Map\n",
    "    plt.figure(figsize=(15, 15))\n",
    "    plt.subplot(121)\n",
    "    plt.imshow(cv2.GaussianBlur(age_map1, (41, 41),0), cmap=heatmap, alpha=1)\n",
    "    plt.imshow(inp1, alpha = 0.5)\n",
    "    plt.subplot(122)\n",
    "    plt.imshow(inp1)\n",
    "    plt.show()"
   ]
  },
  {
   "cell_type": "code",
   "execution_count": 13,
   "metadata": {},
   "outputs": [
    {
     "name": "stdout",
     "output_type": "stream",
     "text": [
      "CPU times: user 6 µs, sys: 1e+03 ns, total: 7 µs\n",
      "Wall time: 12.2 µs\n"
     ]
    }
   ],
   "source": [
    "%%time\n",
    "if run_tests:\n",
    "    age_map2 = generate_age_map(details2, gradient2, 20, 100/np.product(details2.shape))\n",
    "\n",
    "    # Plotting Age Map\n",
    "    plt.figure(figsize=(15, 15))\n",
    "    plt.subplot(121)\n",
    "    plt.imshow(cv2.GaussianBlur(age_map2,(41, 41),0), cmap=heatmap, alpha=1)\n",
    "    plt.imshow(inp2, alpha = 0.7)\n",
    "    plt.subplot(122)\n",
    "    plt.imshow(inp2)\n",
    "    plt.show()"
   ]
  },
  {
   "cell_type": "markdown",
   "metadata": {},
   "source": [
    "# Intact texture generation"
   ]
  },
  {
   "cell_type": "markdown",
   "metadata": {},
   "source": [
    "## Tile detection"
   ]
  },
  {
   "cell_type": "code",
   "execution_count": 14,
   "metadata": {},
   "outputs": [],
   "source": [
    "def global_minimas(dist_map):\n",
    "    \n",
    "    a,b=dist_map.shape\n",
    "    minima=np.zeros((a,b),dtype='uint8')\n",
    "    \n",
    "    thresh=np.unique(dist_map)[np.rint(0.005*(a-1)*(b-1)).astype('uint8')]\n",
    "    minima=dist_map<thresh     \n",
    "                      \n",
    "    return minima.astype('uint8')     \n",
    "\n",
    "def local_minimas(dist_map,N):\n",
    "    \n",
    "    a,b=dist_map.shape\n",
    "    minima=np.zeros((a,b),dtype='uint8')\n",
    "    for i in range(0,a,N):\n",
    "        for j in range(0,b,N):\n",
    "            X=min(i+N,a)\n",
    "            Y=min(j+N,b)\n",
    "            patch=dist_map[i:X,j:Y]\n",
    "            thresh=np.unique(patch)[np.rint(0.005*(X-i)*(Y-j)).astype('uint8')]\n",
    "#             plt.figure(figsize=(10,10))\n",
    "#             plt.imshow(patch<thresh,cmap='gray')\n",
    "#             plt.axis('off')\n",
    "            minima[i:X,j:Y]=patch<thresh     \n",
    "                      \n",
    "    return minima.astype('uint8')"
   ]
  },
  {
   "cell_type": "code",
   "execution_count": 15,
   "metadata": {},
   "outputs": [],
   "source": [
    "def make_tile(luminance, gradient,labels):\n",
    "    a,b = luminance.shape\n",
    "    N1 = a//4\n",
    "    N2 = b//4\n",
    "    \n",
    "    check=np.unique(labels)[1:]\n",
    "    tiles={}\n",
    "    global_min={}\n",
    "    \n",
    "    for i in check:\n",
    "        temp = np.where(labels==i)\n",
    "        l = len(temp[0])\n",
    "        x = temp[0][l//2]\n",
    "        y = temp[1][l//2]\n",
    "        grad_tile = gradient[ max(0,x-N1//2):min(x+N1//2,a-1) , max(0,y-N2//2):min(b-1,y+N2//2) ]\n",
    "        lum_tile = luminance[ max(0,x-N1//2):min(x+N1//2,a-1) , max(0,y-N2//2):min(b-1,y+N2//2) ]\n",
    "        \n",
    "#         print(lum_tile.shape,' ' , grad_tile.shape, ' ', a,b)\n",
    "#         print(max(0,x-N//2),\":\",min(x+N//2,a-1) ,\"      \", max(0,y-N//2),\":\",min(b-1,y+N//2))\n",
    "\n",
    "        tiles[i] = inbuilt_distance(lum_tile, grad_tile, luminance, gradient)\n",
    "        global_min[i] = global_minimas(tiles[i])\n",
    "        \n",
    "    return global_min"
   ]
  },
  {
   "cell_type": "code",
   "execution_count": 16,
   "metadata": {},
   "outputs": [],
   "source": [
    "def sum_tiles(pot_tiles):\n",
    "    a,b=pot_tiles[1].shape\n",
    "    sum_tiles=np.zeros((a,b),dtype='uint8')\n",
    "\n",
    "    for i in pot_tiles:\n",
    "        sum_tiles+=pot_tiles[i]\n",
    "        \n",
    "    return sum_tiles    "
   ]
  },
  {
   "cell_type": "code",
   "execution_count": 17,
   "metadata": {},
   "outputs": [],
   "source": [
    "def detect_peaks_local(sum_tiles):\n",
    "    a,b = sum_tiles.shape\n",
    "    N1 = a//4\n",
    "    N2 = b//4\n",
    "    maxima = np.zeros((a,b),dtype='uint8')\n",
    "    \n",
    "    for i in range(0,a,N1):\n",
    "        for j in range(0,b,N2):\n",
    "            X = min(i+N1,a)\n",
    "            Y = min(j+N2,b)\n",
    "            patch = sum_tiles[i:X,j:Y]\n",
    "            thresh = np.max(patch)\n",
    "\n",
    "            if thresh > 0:\n",
    "                maxima[i:X,j:Y] = patch == thresh\n",
    "                maxima[maxima == 1] = 255\n",
    "            else:\n",
    "                maxima[i:X,j:Y] = patch      \n",
    "\n",
    "    return N1,N2,maxima.astype('uint8')                  "
   ]
  },
  {
   "cell_type": "code",
   "execution_count": 18,
   "metadata": {},
   "outputs": [],
   "source": [
    "## Finding the Offset Vectors\n",
    "\n",
    "def grid_calc(final_tile_centers, N1, N2):\n",
    "    Tile_centers = []\n",
    "    x,y = np.nonzero(final_tile_centers)[0],np.nonzero(final_tile_centers)[1]\n",
    "\n",
    "    for c in range(x.shape[0]):\n",
    "        Tile_centers.append([x[c] , y[c]])\n",
    "    Tile_centers = np.array(Tile_centers)\n",
    "    Offset_Vectors = []\n",
    "    \n",
    "    for i in range(Tile_centers.shape[0]):\n",
    "        for j in range(i+1,Tile_centers.shape[0]):\n",
    "                Offset_Vectors.append(Tile_centers[i]- Tile_centers[j])\n",
    "                \n",
    "    # Offset_Vectors = np.array(Offset_Vectors)\n",
    "    u,c = np.unique(Offset_Vectors,axis = 0, return_counts=True)\n",
    "    sorted_arr = u[c.argsort()]\n",
    "        \n",
    "    v=abs(sorted_arr)\n",
    "    \n",
    "    ## Might need to change bounds here [N1/2, N2/2]\n",
    "    v=v[ np.where( np.any([np.all(v >= [N1/2, N2/2], axis=1), np.logical_and(v[:, 0] == 0, v[:, 1] >= N2/2), np.logical_and(v[:, 0] >= N1/2, v[:, 1] == 0)], axis=0 ) ) ][-15:]\n",
    "    counts = c[c.argsort()]\n",
    "    counts = counts[np.where( np.any([np.all(v >= [N1/2, N2/2], axis=1), np.logical_and(v[:, 0] == 0, v[:, 1] >= N2/2), np.logical_and(v[:, 0] >= N1/2, v[:, 1] == 0)], axis=0 ) ) ][-15:]\n",
    "  \n",
    "    try:\n",
    "        x, _ = v[np.argwhere(v[:, 1] == 0)][-1][0]\n",
    "    except:\n",
    "        x, _ = v[np.argwhere(v[:, 0] > 0)][-1][0]\n",
    "    try:\n",
    "        _, y = v[np.argwhere(v[:, 0] == 0)][-1][0]\n",
    "    except:\n",
    "        _, y = v[np.argwhere(v[:, 1] > 0)][-1][0]\n",
    "\n",
    "    return x, y"
   ]
  },
  {
   "cell_type": "markdown",
   "metadata": {},
   "source": [
    "### Testing"
   ]
  },
  {
   "cell_type": "code",
   "execution_count": 19,
   "metadata": {},
   "outputs": [],
   "source": [
    "if run_tests:\n",
    "    inp1 = cv2.imread('../images/input.png')\n",
    "    inp1 = cv2.cvtColor(inp1, cv2.COLOR_BGR2RGB)\n",
    "\n",
    "    details1, gradient1 = decouple(inp1)\n",
    "\n",
    "    a,b,c=inp1.shape\n",
    "\n",
    "    N = a//4\n",
    "\n",
    "    source_patch_one = inp1[a//4 : a//4+N, b//4 : b//4+N, :]\n",
    "    source_patch_l = details1[a//4 : a//4+N, b//4 : b//4+N]\n",
    "    source_patch_g = gradient1[a//4 : a//4+N, b//4 : b//4+N]"
   ]
  },
  {
   "cell_type": "code",
   "execution_count": 20,
   "metadata": {},
   "outputs": [
    {
     "name": "stdout",
     "output_type": "stream",
     "text": [
      "CPU times: user 7 µs, sys: 1 µs, total: 8 µs\n",
      "Wall time: 17.2 µs\n"
     ]
    }
   ],
   "source": [
    "%%time\n",
    "if run_tests:\n",
    "    dist_map1 = inbuilt_distance(source_patch_l, source_patch_g, details1, gradient1)\n",
    "\n",
    "    plt.figure(figsize=(10,10))\n",
    "    plt.imshow(dist_map1 ,cmap='gray')\n",
    "    # plt.axis('off')\n",
    "    plt.show()"
   ]
  },
  {
   "cell_type": "code",
   "execution_count": 21,
   "metadata": {},
   "outputs": [],
   "source": [
    "if run_tests:\n",
    "    global_mask1 = global_minimas(dist_map1)\n",
    "\n",
    "    plt.figure(figsize=(20,20))\n",
    "    plt.subplot(121)\n",
    "    plt.imshow(inp1)\n",
    "    plt.axis('off')\n",
    "    plt.subplot(122)\n",
    "    plt.imshow(global_mask1,cmap='gray')\n",
    "    plt.axis('off')\n",
    "    plt.show()"
   ]
  },
  {
   "cell_type": "code",
   "execution_count": 22,
   "metadata": {},
   "outputs": [],
   "source": [
    "if run_tests:\n",
    "    global_mask1_bin= cv2.threshold(global_mask1, 0, 1, cv2.THRESH_BINARY | cv2.THRESH_OTSU)[1]\n",
    "    ret1, labels1 = cv2.connectedComponents(global_mask1_bin)"
   ]
  },
  {
   "cell_type": "code",
   "execution_count": 23,
   "metadata": {},
   "outputs": [
    {
     "name": "stdout",
     "output_type": "stream",
     "text": [
      "CPU times: user 7 µs, sys: 1e+03 ns, total: 8 µs\n",
      "Wall time: 13.1 µs\n"
     ]
    }
   ],
   "source": [
    "%%time\n",
    "if run_tests:\n",
    "    pot_tiles1 = make_tile(details1, gradient1, labels1)"
   ]
  },
  {
   "cell_type": "code",
   "execution_count": 24,
   "metadata": {},
   "outputs": [],
   "source": [
    "if run_tests:\n",
    "    sum_tiles1 = sum_tiles(pot_tiles1)\n",
    "\n",
    "    N1, N2, final_tile_centers1 = detect_peaks_local(sum_tiles1)\n",
    "\n",
    "    # print(sum_tiles[sum_tiles!=0])\n",
    "    # print(np.nonzero(final_tile_centers1))\n",
    "    # print(len(final_tile_centers))\n",
    "    final_tile_centers1[final_tile_centers1!=0] = 255\n",
    "\n",
    "    fig,ax = plt.subplots(2,figsize=(10,10))\n",
    "    ax[0].axis('off')\n",
    "    ax[1].axis('off')\n",
    "    ax[0].imshow(sum_tiles1 , cmap = 'gray')\n",
    "    ax[1].imshow(final_tile_centers1, cmap= 'gray')\n",
    "    plt.show()"
   ]
  },
  {
   "cell_type": "code",
   "execution_count": 25,
   "metadata": {},
   "outputs": [],
   "source": [
    "if run_tests:\n",
    "    x1,y1 = grid_calc(final_tile_centers1, N1, N2)\n",
    "    print(x1, y1)\n",
    "\n",
    "    c=0\n",
    "    for i in range(x1):\n",
    "        c+=1\n",
    "        if c>2:break\n",
    "        d=0   \n",
    "        for j in range(y1):\n",
    "            d+=1\n",
    "            if d>2:break       \n",
    "            plt.imshow(inp1[i*x1:(i+1)*x1,j*y1:(j+1)*y1])\n",
    "            plt.title(f\"({i*x1}, {j*y1}) -> ({(i+1)*x1}, {(j+1)*y1})\")\n",
    "            plt.show()\n",
    "            print('[',i*x1,':',(i+1)*x1,' , ',j*y1,':',(j+1)*y1,']')"
   ]
  },
  {
   "cell_type": "markdown",
   "metadata": {},
   "source": [
    "### Median Image"
   ]
  },
  {
   "cell_type": "code",
   "execution_count": 26,
   "metadata": {},
   "outputs": [],
   "source": [
    "def median_image(input_texture, x1, y1): \n",
    "    tiles = []\n",
    "\n",
    "    for i in range(x1):\n",
    "        for j in range(y1):\n",
    "            xi = i*x1\n",
    "            xf = (i+1) * x1\n",
    "            yi = j*y1\n",
    "            yf = (j+1) * y1\n",
    "\n",
    "            if (xf < input_texture.shape[0]) and (yf < input_texture.shape[1]):\n",
    "                tiles.append(input_texture[xi:xf, yi:yf])\n",
    "\n",
    "    medianTile = np.rint(np.median(tiles, axis=(0)))\n",
    "    medianImage = np.copy(input_texture)\n",
    "\n",
    "    for i in range(x1):\n",
    "        xi = i*x1\n",
    "        xf = (i+1) * x1\n",
    "        if xi >= medianImage.shape[0]:\n",
    "            break\n",
    "        for j in range(y1):\n",
    "            yi = j*y1\n",
    "            yf = (j+1) * y1\n",
    "\n",
    "            if yi >= medianImage.shape[1]:\n",
    "                break\n",
    "\n",
    "            if (xf < medianImage.shape[0]) and (yf < medianImage.shape[1]):\n",
    "                medianImage[xi:xf, yi:yf] = medianTile\n",
    "            else:\n",
    "                xf2 = min(xf, medianImage.shape[0])\n",
    "                yf2 = min(yf, medianImage.shape[1])\n",
    "                medianImage[xi:xf2, yi:yf2] = medianTile[:(xf2-xi), :(yf2-yi)]\n",
    "                \n",
    "    return medianImage            "
   ]
  },
  {
   "cell_type": "code",
   "execution_count": 27,
   "metadata": {},
   "outputs": [],
   "source": [
    "if run_tests:\n",
    "    med_img=median_image(inp1,x1,y1) \n",
    "\n",
    "    plt.figure(figsize=(20,10))\n",
    "    plt.subplot(121)\n",
    "    plt.imshow(inp1)\n",
    "    plt.title(\"Input Image\")\n",
    "    plt.subplot(122)\n",
    "    plt.imshow(med_img)\n",
    "    plt.title(\"Median Image\")\n",
    "    plt.show()"
   ]
  },
  {
   "cell_type": "markdown",
   "metadata": {},
   "source": [
    "## Intact Template generation"
   ]
  },
  {
   "cell_type": "code",
   "execution_count": 28,
   "metadata": {},
   "outputs": [],
   "source": [
    "def intact_template(img_name):\n",
    "    path='../images/'\n",
    "    \n",
    "    img=cv2.imread(path+img_name)\n",
    "    img=cv2.cvtColor(img, cv2.COLOR_BGR2RGB)\n",
    "    \n",
    "    a,b,c=img.shape\n",
    "    N = a//4\n",
    "\n",
    "    details, gradient = decouple(img)\n",
    "    source_patch_one = img[a//4:a//4+N,b//4:b//4+N, :]\n",
    "    source_patch_l = details[a//4:a//4+N,b//4:b//4+N]\n",
    "    source_patch_g = gradient[a//4:a//4+N,b//4:b//4+N]\n",
    "\n",
    "    dist_map = inbuilt_distance(source_patch_l, source_patch_g, details, gradient)\n",
    "    \n",
    "    g=global_minimas(dist_map)\n",
    "    g_bin= cv2.threshold(g, 0, 1, cv2.THRESH_BINARY | cv2.THRESH_OTSU)[1]\n",
    "    ret, labels = cv2.connectedComponents(g_bin)\n",
    "    \n",
    "    pot_tiles=make_tile(details,gradient,labels)\n",
    "    sum_=sum_tiles(pot_tiles)   \n",
    "    \n",
    "    N1,N2,final_tile_centers = detect_peaks_local(sum_)\n",
    "    x,y=grid_calc(final_tile_centers, N1, N2)\n",
    "    print(min(x, y))\n",
    "    med_img=median_image(img,x,y)\n",
    "    \n",
    "    plt.figure(figsize=(20,20))\n",
    "    plt.subplot(121)\n",
    "    plt.imshow(img)\n",
    "    plt.title(\"Input Image\")\n",
    "    plt.subplot(122)\n",
    "    plt.imshow(med_img)\n",
    "    plt.title(\"Median Image\")\n",
    "    plt.show()\n",
    "\n",
    "    return med_img"
   ]
  },
  {
   "cell_type": "code",
   "execution_count": 29,
   "metadata": {},
   "outputs": [
    {
     "name": "stdout",
     "output_type": "stream",
     "text": [
      "peak memory: 124.44 MiB, increment: 0.05 MiB\n",
      "CPU times: user 82.8 ms, sys: 49.4 ms, total: 132 ms\n",
      "Wall time: 5.1 s\n"
     ]
    }
   ],
   "source": [
    "%%time\n",
    "%%memit\n",
    "if run_tests:\n",
    "    temp0 = intact_template('1.png')"
   ]
  },
  {
   "cell_type": "code",
   "execution_count": 30,
   "metadata": {},
   "outputs": [
    {
     "name": "stdout",
     "output_type": "stream",
     "text": [
      "peak memory: 124.47 MiB, increment: 0.04 MiB\n",
      "CPU times: user 131 ms, sys: 103 ms, total: 234 ms\n",
      "Wall time: 8 s\n"
     ]
    }
   ],
   "source": [
    "%%time\n",
    "%%memit\n",
    "if run_tests:\n",
    "    temp1 = intact_template('texture2.png')"
   ]
  },
  {
   "cell_type": "code",
   "execution_count": 31,
   "metadata": {},
   "outputs": [
    {
     "name": "stdout",
     "output_type": "stream",
     "text": [
      "peak memory: 124.47 MiB, increment: 0.00 MiB\n",
      "CPU times: user 107 ms, sys: 65.1 ms, total: 172 ms\n",
      "Wall time: 4.21 s\n"
     ]
    }
   ],
   "source": [
    "%%time\n",
    "%%memit\n",
    "if run_tests:\n",
    "    temp2 = intact_template('input.png')"
   ]
  },
  {
   "cell_type": "code",
   "execution_count": 32,
   "metadata": {},
   "outputs": [
    {
     "name": "stdout",
     "output_type": "stream",
     "text": [
      "peak memory: 124.48 MiB, increment: 0.01 MiB\n",
      "CPU times: user 68.1 ms, sys: 53.6 ms, total: 122 ms\n",
      "Wall time: 3.42 s\n"
     ]
    }
   ],
   "source": [
    "%%time\n",
    "%%memit\n",
    "if run_tests:\n",
    "    temp3 = intact_template('texture8.png')"
   ]
  },
  {
   "cell_type": "code",
   "execution_count": 33,
   "metadata": {},
   "outputs": [
    {
     "name": "stdout",
     "output_type": "stream",
     "text": [
      "peak memory: 124.50 MiB, increment: 0.01 MiB\n",
      "CPU times: user 63.8 ms, sys: 54 ms, total: 118 ms\n",
      "Wall time: 4.12 s\n"
     ]
    }
   ],
   "source": [
    "%%time\n",
    "%%memit\n",
    "if run_tests:\n",
    "    temp4 = intact_template('texture4.jpeg')    "
   ]
  },
  {
   "cell_type": "code",
   "execution_count": 34,
   "metadata": {},
   "outputs": [
    {
     "name": "stdout",
     "output_type": "stream",
     "text": [
      "peak memory: 124.50 MiB, increment: 0.00 MiB\n",
      "CPU times: user 67.5 ms, sys: 51.5 ms, total: 119 ms\n",
      "Wall time: 3.33 s\n"
     ]
    }
   ],
   "source": [
    "%%time\n",
    "%%memit\n",
    "if run_tests:\n",
    "    temp5 = intact_template('texture10.jpeg')    "
   ]
  },
  {
   "cell_type": "markdown",
   "metadata": {},
   "source": [
    "### Texture transfer (Quilting)"
   ]
  },
  {
   "cell_type": "code",
   "execution_count": 35,
   "metadata": {},
   "outputs": [],
   "source": [
    "import importlib\n",
    "import textureTransfer\n",
    "importlib.reload(textureTransfer)\n",
    "transfer_texture = textureTransfer.Construct"
   ]
  },
  {
   "cell_type": "code",
   "execution_count": 36,
   "metadata": {},
   "outputs": [],
   "source": [
    "def transfer(input_texture, intact_template, blocksize, N=5, old=None,stochastic_mask = None):\n",
    "    if type(input_texture) == type('str'):\n",
    "        img0 = cv2.imread('../images/'+input_texture)\n",
    "        img0 = cv2.cvtColor(img0, cv2.COLOR_BGR2RGB)\n",
    "    else:\n",
    "        img0 = input_texture\n",
    "    \n",
    "    for i in range(5):\n",
    "            \n",
    "        blocksize_new = max(12, blocksize//3)\n",
    "            \n",
    "        alpha_i = (0.8 * (i/(N-1))) + 0.1\n",
    "        if i==0:\n",
    "            t = transfer_texture(img0, intact_template, [blocksize_new, blocksize_new], blocksize_new//6, alpha=alpha_i, tolerance=0.001, compareImage=None,stochastic_mask = None)    \n",
    "        else:    \n",
    "            t = transfer_texture(img0, intact_template, [blocksize_new, blocksize_new], blocksize_new//6, alpha=alpha_i, tolerance=0.001, finalImage=t, compareImage=None,stochastic_mask = None)   \n",
    "    \n",
    "    return t.astype('uint8')"
   ]
  },
  {
   "cell_type": "markdown",
   "metadata": {},
   "source": [
    "## Final Intact Texture Generation"
   ]
  },
  {
   "cell_type": "code",
   "execution_count": 37,
   "metadata": {},
   "outputs": [],
   "source": [
    "def intact_texture(img_name, size=None, ret_bsize=False, ret_medImg=False):\n",
    "    \n",
    "    if type(img_name) == type('str'):\n",
    "        img=cv2.imread('../images/'+img_name)\n",
    "        img=cv2.cvtColor(img, cv2.COLOR_BGR2RGB)\n",
    "    else:\n",
    "        img = img_name\n",
    "        \n",
    "    a,b,c=img.shape\n",
    "    N = a//4\n",
    "\n",
    "    details, gradient = decouple(img)\n",
    "    source_patch_one = img[a//4:a//4+N,b//4:b//4+N, :]\n",
    "    source_patch_l = details[a//4:a//4+N,b//4:b//4+N]\n",
    "    source_patch_g = gradient[a//4:a//4+N,b//4:b//4+N]\n",
    "\n",
    "    dist_map = inbuilt_distance(source_patch_l, source_patch_g, details, gradient)\n",
    "    \n",
    "    g=global_minimas(dist_map)\n",
    "    g_bin= cv2.threshold(g, 0, 1, cv2.THRESH_BINARY | cv2.THRESH_OTSU)[1]\n",
    "    ret, labels = cv2.connectedComponents(g_bin)\n",
    "    \n",
    "    pot_tiles=make_tile(details,gradient,labels)\n",
    "    sum_=sum_tiles(pot_tiles)   \n",
    "    \n",
    "    N1,N2,final_tile_centers = detect_peaks_local(sum_)\n",
    "    x,y=grid_calc(final_tile_centers, N1, N2)\n",
    "    med_img=median_image(img,x,y)\n",
    "    \n",
    "    intact = transfer(img, med_img, (min(x, y)))\n",
    "    \n",
    "    if size is not None:\n",
    "        plt.figure(figsize=size)\n",
    "        plt.subplot(131).imshow(img)\n",
    "        plt.title(\"Input Texture\")\n",
    "        plt.subplot(132).imshow(med_img)\n",
    "        plt.title(\"Intact Template\")\n",
    "        plt.subplot(133).imshow(intact)\n",
    "        plt.title(\"Intact Texture\")\n",
    "        plt.show()\n",
    "    \n",
    "    if ret_medImg and ret_bsize:\n",
    "        return intact, min(x, y), med_img\n",
    "    elif ret_medImg:\n",
    "        return intact, med_img\n",
    "    elif ret_bsize:\n",
    "        return intact, min(x, y)\n",
    "    else:\n",
    "        return intact"
   ]
  },
  {
   "cell_type": "code",
   "execution_count": 38,
   "metadata": {},
   "outputs": [],
   "source": [
    "def negate(img):\n",
    "    return img * (-1) + 255\n",
    "\n",
    "def stoc_texture(img_name, size=None, ret_bsize=False):\n",
    "    \n",
    "    if type(img_name) == type('str'):\n",
    "        img=cv2.imread('../images/'+img_name)\n",
    "        img=cv2.cvtColor(img, cv2.COLOR_BGR2RGB)\n",
    "    else:\n",
    "        img = img_name\n",
    "        \n",
    "    a,b,c=img.shape\n",
    "    N = a//4\n",
    "\n",
    "    details, gradient = decouple(img)\n",
    "    source_patch_one = img[a//4:a//4+N,b//4:b//4+N, :]\n",
    "    source_patch_l = details[a//4:a//4+N,b//4:b//4+N]\n",
    "    source_patch_g = gradient[a//4:a//4+N,b//4:b//4+N]\n",
    "\n",
    "    dist_map = inbuilt_distance(source_patch_l, source_patch_g, details, gradient)\n",
    "    g=global_minimas(dist_map)\n",
    "    g_bin= cv2.threshold(g, 0, 1, cv2.THRESH_BINARY | cv2.THRESH_OTSU)[1]\n",
    "    ret, labels = cv2.connectedComponents(g_bin)\n",
    "    \n",
    "    pot_tiles=make_tile(details,gradient,labels)\n",
    "    sum_=sum_tiles(pot_tiles)   \n",
    "    \n",
    "    N1,N2,final_tile_centers = detect_peaks_local(sum_)\n",
    "    x,y=grid_calc(final_tile_centers, N1, N2)\n",
    "    med_img=median_image(img,x,y)\n",
    "\n",
    "    age_map = generate_age_map(details, gradient, 20, 100/np.product(details.shape))\n",
    "    h,w =age_map.shape\n",
    "#     plt.imshow(age_map)\n",
    "#     plt.show()\n",
    "    uniq =  np.unique(age_map)\n",
    "    thresh = uniq[np.rint(0.8*h*w).astype('uint8')]\n",
    "#     print(\"Threshold = \", thresh)\n",
    "    mask = np.zeros(dist_map.shape)\n",
    "    mask[age_map > thresh ] = 255\n",
    "    mask = negate(mask)\n",
    "    plt.imshow(mask,cmap='gray')\n",
    "    plt.show()\n",
    "#     print(np.count_nonzero(mask))\n",
    "#     plt.imshow(mask,cmap = 'gray')\n",
    "#     plt.show()\n",
    "\n",
    "    intact = transfer(img, med_img, (min(x, y)) ,stochastic_mask = mask)\n",
    "    \n",
    "    if size is not None:\n",
    "        plt.figure(figsize=size)\n",
    "        plt.subplot(131).imshow(img)\n",
    "        plt.title(\"Input Texture\")\n",
    "        plt.subplot(132).imshow(med_img)\n",
    "        plt.title(\"Intact Template\")\n",
    "        plt.subplot(133).imshow(intact)\n",
    "        plt.title(\"Intact Texture\")\n",
    "        plt.show()\n",
    "    \n",
    "    if ret_bsize:\n",
    "        return intact, min(x, y)\n",
    "    else:\n",
    "        return intact"
   ]
  },
  {
   "cell_type": "code",
   "execution_count": 39,
   "metadata": {},
   "outputs": [
    {
     "name": "stdout",
     "output_type": "stream",
     "text": [
      "peak memory: 124.59 MiB, increment: 0.01 MiB\n",
      "CPU times: user 84.9 ms, sys: 64.4 ms, total: 149 ms\n",
      "Wall time: 4.68 s\n"
     ]
    }
   ],
   "source": [
    "%%time\n",
    "%%memit\n",
    "if run_tests:\n",
    "    intact0 = intact_texture('1.png')\n",
    "    plt.imshow(intact0)"
   ]
  },
  {
   "cell_type": "code",
   "execution_count": 40,
   "metadata": {},
   "outputs": [
    {
     "name": "stdout",
     "output_type": "stream",
     "text": [
      "peak memory: 124.59 MiB, increment: 0.00 MiB\n",
      "CPU times: user 68.4 ms, sys: 53.2 ms, total: 122 ms\n",
      "Wall time: 4 s\n"
     ]
    }
   ],
   "source": [
    "%%time\n",
    "%%memit\n",
    "if run_tests:\n",
    "    intact1 = intact_texture('texture2.png')\n",
    "    plt.imshow(intact1)"
   ]
  },
  {
   "cell_type": "code",
   "execution_count": 41,
   "metadata": {},
   "outputs": [
    {
     "name": "stdout",
     "output_type": "stream",
     "text": [
      "peak memory: 124.59 MiB, increment: 0.00 MiB\n",
      "CPU times: user 67.9 ms, sys: 54.4 ms, total: 122 ms\n",
      "Wall time: 3.73 s\n"
     ]
    }
   ],
   "source": [
    "%%time\n",
    "%%memit\n",
    "if run_tests:\n",
    "    intact2 = intact_texture('input.png')\n",
    "    plt.imshow(intact2)"
   ]
  },
  {
   "cell_type": "code",
   "execution_count": 42,
   "metadata": {},
   "outputs": [
    {
     "name": "stdout",
     "output_type": "stream",
     "text": [
      "peak memory: 124.59 MiB, increment: 0.00 MiB\n",
      "CPU times: user 67.9 ms, sys: 50.5 ms, total: 118 ms\n",
      "Wall time: 3.26 s\n"
     ]
    }
   ],
   "source": [
    "%%time\n",
    "%%memit\n",
    "if run_tests:\n",
    "    intact3 = stoc_texture('texture6.jpeg')\n",
    "    plt.imshow(intact3)"
   ]
  },
  {
   "cell_type": "code",
   "execution_count": 43,
   "metadata": {},
   "outputs": [
    {
     "name": "stdout",
     "output_type": "stream",
     "text": [
      "peak memory: 124.61 MiB, increment: 0.01 MiB\n",
      "CPU times: user 63 ms, sys: 53.5 ms, total: 117 ms\n",
      "Wall time: 3.95 s\n"
     ]
    }
   ],
   "source": [
    "%%time\n",
    "%%memit\n",
    "if run_tests:\n",
    "    intact9 = intact_texture('texture9.jpeg')   \n",
    "    plt.imshow(intact9)"
   ]
  },
  {
   "cell_type": "code",
   "execution_count": 44,
   "metadata": {},
   "outputs": [
    {
     "name": "stdout",
     "output_type": "stream",
     "text": [
      "peak memory: 124.61 MiB, increment: 0.00 MiB\n",
      "CPU times: user 69.7 ms, sys: 55.2 ms, total: 125 ms\n",
      "Wall time: 4.03 s\n"
     ]
    }
   ],
   "source": [
    "%%time\n",
    "%%memit\n",
    "if run_tests:\n",
    "    intact10 = intact_texture('texture10.jpeg')   \n",
    "    plt.imshow(intact10)"
   ]
  },
  {
   "cell_type": "markdown",
   "metadata": {},
   "source": [
    "# Deweathering"
   ]
  },
  {
   "cell_type": "markdown",
   "metadata": {},
   "source": [
    "### ----- Trying out deweathering -----"
   ]
  },
  {
   "cell_type": "code",
   "execution_count": 45,
   "metadata": {},
   "outputs": [],
   "source": [
    "if run_tests:\n",
    "    input_texture = cv2.imread('../images/texture8.png')\n",
    "    input_texture = cv2.cvtColor(input_texture, cv2.COLOR_BGR2RGB)\n",
    "    details, gradient = decouple(input_texture)\n",
    "\n",
    "    age_map = generate_age_map(details, gradient, 20, 100/np.product(details.shape))\n",
    "    blurred_age_map = cv2.GaussianBlur(age_map,(41, 41),0)\n",
    "    scaled = scale(blurred_age_map, 1)\n",
    "\n",
    "    plt.figure(figsize=(20, 10))\n",
    "    plt.subplot(131).imshow(age_map, cmap=heatmap)\n",
    "    plt.subplot(132).imshow(blurred_age_map, cmap=heatmap)\n",
    "    plt.subplot(133).imshow(scaled, cmap=heatmap)\n",
    "    plt.show()\n",
    "\n",
    "    plt.figure(figsize=(15, 15))\n",
    "    plt.subplot(121)\n",
    "    plt.imshow(scaled, cmap=heatmap, alpha=1)\n",
    "    plt.imshow(input_texture, alpha = 0.7)\n",
    "    plt.subplot(122)\n",
    "    plt.imshow(input_texture)\n",
    "    plt.show()\n",
    "\n",
    "    t = 0.95\n",
    "    age_map_t = np.where(scaled < (1-t), 0, scaled - (1-t))\n",
    "\n",
    "    plt.figure(figsize=(15, 15))\n",
    "    plt.subplot(121)\n",
    "    plt.imshow(age_map_t, cmap=heatmap, alpha=1)\n",
    "    plt.imshow(input_texture, alpha = 0.7)\n",
    "    plt.subplot(122)\n",
    "    plt.imshow(input_texture)\n",
    "    plt.show()\n",
    "\n",
    "    int_tex = intact_texture(input_texture, (15, 10))\n",
    "    template_t = (input_texture * np.dstack((age_map_t, age_map_t, age_map_t))) + (int_tex * np.dstack((1-age_map_t, 1-age_map_t, 1-age_map_t)))\n",
    "\n",
    "    plt.figure(figsize=(20, 10))\n",
    "    plt.subplot(131).imshow(input_texture)\n",
    "    plt.subplot(132).imshow(age_map_t, cmap=heatmap)\n",
    "    plt.subplot(133).imshow(np.rint(template_t).astype('uint8'), cmap=heatmap)\n",
    "    plt.show()\n",
    "\n",
    "    deweathered = transfer(input_texture, template_t, 44)\n",
    "\n",
    "    plt.figure(figsize=(20, 10))\n",
    "    plt.subplot(131).imshow(input_texture)\n",
    "    plt.subplot(132).imshow(age_map_t, cmap=heatmap)\n",
    "    plt.subplot(133).imshow(deweathered, cmap=heatmap)\n",
    "    plt.show()"
   ]
  },
  {
   "cell_type": "code",
   "execution_count": 46,
   "metadata": {},
   "outputs": [],
   "source": [
    "def deweather(input_image, t, details=None, gradient=None, int_tex=None, bsize=None, age_map=None, t_old=None, size=None):\n",
    "    \n",
    "    if type(input_image) == type('str'):\n",
    "        input_texture = cv2.imread('../images/'+input_image)\n",
    "        input_texture = cv2.cvtColor(input_texture, cv2.COLOR_BGR2RGB)\n",
    "    else:\n",
    "        input_texture = input_image\n",
    "    \n",
    "    if details is None or gradient is None:\n",
    "        details, gradient = decouple(input_texture)\n",
    "    \n",
    "    if age_map is None:\n",
    "        print(\"\\r\\t\\t\\t\\t\\t\\t\\t\\rGenerating Age Map...\")\n",
    "        age_map = generate_age_map(details, gradient, 20, 100/np.product(details.shape))\n",
    "        age_map = cv2.GaussianBlur(age_map,(41, 41),0)\n",
    "        age_map = scale(age_map, 1)\n",
    "        print(\"\\r\\t\\t\\t\\t\\t\\t\\t\\rDone!\")\n",
    "    age_map_t =  np.where(age_map < (1-t), 0, age_map - (1-t))\n",
    "    \n",
    "    if int_tex is None or bsize is None:\n",
    "        print(\"\\r\\t\\t\\t\\t\\t\\t\\t\\rGenerating Intact_texture...\")\n",
    "        int_tex, bsize = intact_texture(input_texture, ret_bsize=True)\n",
    "        print(\"\\r\\t\\t\\t\\t\\t\\t\\t\\rDone!\")\n",
    "    \n",
    "    template_t = (input_texture * np.dstack((age_map_t, age_map_t, age_map_t))) + (int_tex * np.dstack((1-age_map_t, 1-age_map_t, 1-age_map_t)))\n",
    "    \n",
    "    print(\"\\r\\t\\t\\t\\t\\t\\t\\t\\rGenerating Deweathered Image...\")\n",
    "    deweathered = transfer(input_texture, template_t, bsize, old=t_old)\n",
    "    print(\"\\r\\t\\t\\t\\t\\t\\t\\t\\rDone!\")\n",
    "    \n",
    "    if size is not None:\n",
    "        plt.figure(figsize=size)\n",
    "        plt.subplot(131).imshow(input_texture)\n",
    "        plt.subplot(132).imshow(age_map_t, cmap=heatmap)\n",
    "        plt.subplot(133).imshow(deweathered)\n",
    "        plt.show()\n",
    "    \n",
    "    return deweathered"
   ]
  },
  {
   "cell_type": "markdown",
   "metadata": {},
   "source": [
    "### ----- Testing -----"
   ]
  },
  {
   "cell_type": "code",
   "execution_count": 47,
   "metadata": {
    "scrolled": false
   },
   "outputs": [],
   "source": [
    "if run_tests:\n",
    "    _ = deweather('input.png', 0.5, size=(30, 10))\n",
    "    _ = deweather('texture6.jpeg', t=0.9 , details=None, gradient=None, int_tex=intact3 , bsize=20 , age_map=None, t_old=None, size=(30,10))"
   ]
  },
  {
   "cell_type": "code",
   "execution_count": 48,
   "metadata": {},
   "outputs": [],
   "source": [
    "def generate_deweathering_gif(input_image_name, nframes=30):\n",
    "    \n",
    "    import matplotlib.animation as anim\n",
    "    \n",
    "    if type(input_image_name) != type('str'):\n",
    "        print(\"Please provide the FileName\")\n",
    "        return\n",
    "    \n",
    "    img = cv2.imread('../images/'+input_image_name)\n",
    "    img = cv2.cvtColor(img, cv2.COLOR_BGR2RGB)\n",
    "    \n",
    "    details, gradient = decouple(img)\n",
    "    \n",
    "    age_map = generate_age_map(details, gradient, 20, 100/np.product(details.shape))\n",
    "    age_map = cv2.GaussianBlur(age_map,(41, 41),0)\n",
    "    age_map = scale(age_map, 1)\n",
    "    \n",
    "    int_tex, bsize = intact_texture(img, ret_bsize=True)\n",
    "    \n",
    "    timespace = np.linspace(0, 1, nframes)\n",
    "    images = np.array([None for i in timespace])\n",
    "    \n",
    "    images[0] = deweather(img, timespace[0], details=details, gradient=gradient, int_tex=int_tex, bsize=bsize, age_map=age_map, t_old=None, size=None)\n",
    "    for i in range(1, len(timespace)):\n",
    "        print(\"Frame \", i+1, \".....\")\n",
    "        images[i] = deweather(img, timespace[i], details=details, gradient=gradient, int_tex=int_tex, bsize=bsize, age_map=age_map, t_old=images[i-1], size=None)\n",
    "\n",
    "    return images\n",
    "\n",
    "def gen_gif(input_image_name, images=None, nFrames=30):\n",
    "    if images is None:\n",
    "        images = generate_deweathering_gif(input_image_name, nframes)\n",
    "\n",
    "    fig = plt.figure()\n",
    "\n",
    "    frames = []\n",
    "    for i in images:\n",
    "        frames.append([plt.imshow(i, animated=True)])\n",
    "    nframes = len(images)\n",
    "    gif = anim.ArtistAnimation(fig, frames, interval=500, blit=True, repeat_delay=100)\n",
    "\n",
    "    gif.save('../images/'+'deweathering_gif_'+input_image_name+'.gif')\n",
    "    print(\"GIF generated\")\n",
    "    fig.clear()\n",
    "    \n",
    "    return\n",
    "\n",
    "# images_input = generate_deweathering_gif('input.png')\n",
    "# gen_gif('input.png', images_input)"
   ]
  },
  {
   "cell_type": "markdown",
   "metadata": {},
   "source": [
    "# Weathering"
   ]
  },
  {
   "cell_type": "markdown",
   "metadata": {},
   "source": [
    "## Functions"
   ]
  },
  {
   "cell_type": "code",
   "execution_count": 49,
   "metadata": {},
   "outputs": [],
   "source": [
    "def Qxy(centres, N, i=0):\n",
    "    Qx1, Qx2, Qy1, Qy2=centres[0][i],centres[0][i]+N,centres[1][i],centres[1][i]+N\n",
    "\n",
    "    return Qx1, Qx2, Qy1, Qy2\n",
    "\n",
    "def weathering(input_image, age_map=None, intact_texture_img=None, bsize=None,  flag=0, texture=1, size=(20,5), show_debug_output=False):\n",
    "    \n",
    "    \n",
    "    if type(input_image) == type('str'):\n",
    "        input_texture = cv2.imread('../images/' + input_image)\n",
    "        input_texture = cv2.cvtColor(input_texture, cv2.COLOR_BGR2RGB)\n",
    "    else:\n",
    "        input_texture = input_image.copy()\n",
    "\n",
    "    inpDetails, inpGrad = decouple(input_texture)\n",
    "    \n",
    "    if age_map is None:\n",
    "        print(\"\\r\\t\\t\\t\\t\\t\\t\\t\\rGenerating Age Map...\")\n",
    "        age_map = generate_age_map(inpDetails, inpGrad, 20, 100/np.product(inpDetails.shape))\n",
    "        age_map = cv2.GaussianBlur(age_map,(41, 41), 0)\n",
    "        age_map = scale(age_map, 1)\n",
    "        print(\"\\r\\t\\t\\t\\t\\t\\t\\t\\rDone!\")\n",
    "\n",
    "    if intact_texture_img is None or bsize is None:\n",
    "        print(\"\\r\\t\\t\\t\\t\\t\\t\\t\\rGenerating Intact_texture...\")\n",
    "        intact_texture_img, bsize = intact_texture(input_texture, ret_bsize=True)\n",
    "        print(\"\\r\\t\\t\\t\\t\\t\\t\\t\\rDone!\")\n",
    "\n",
    "    intactDetails, intactGrad = decouple(intact_texture_img)\n",
    "\n",
    "    # generating delta map\n",
    "    delta_map = scale((inpDetails-intactDetails) + (inpGrad-intactGrad), 1)\n",
    "    \n",
    "    if show_debug_output:\n",
    "        print(\"Delta Map Made\")\n",
    "\n",
    "    a, b, _ = input_texture.shape\n",
    "    N = a//6\n",
    "    x1, y1 = np.random.randint(0,a-N), np.random.randint(0,b-N)\n",
    "    x2, y2 = x1+N, y1+N\n",
    "\n",
    "    source_patch = input_texture[x1:x2, y1:y2, :]\n",
    "    if flag:m = np.median(delta_map[x1:x2, y1:y2])\n",
    "    else:m = np.average(delta_map[x1:x2, y1:y2])\n",
    "        \n",
    "    if show_debug_output:\n",
    "        print('m:',m)\n",
    "\n",
    "    m2=max(1,m+0.1*m)\n",
    "    centres=np.where(np.logical_and(age_map>m,age_map<=m2 ))\n",
    "    \n",
    "    i=np.random.randint(0,len(centres[0])-1)\n",
    "    Q_x1,Q_x2,Q_y1,Q_y2=Qxy(centres,N,i)   # if i is  \n",
    "    \n",
    "    \n",
    "    # edge map calc\n",
    "    \n",
    "    # med_img2=decouple(med_img,type=2).astype('float64')\n",
    "    # sobelx = cv2.Sobel(med_img2,cv2.CV_64F,1,0,ksize=3)  # x\n",
    "    # sobely = cv2.Sobel(med_img2,cv2.CV_64F,0,1,ksize=3)  # y\n",
    "\n",
    "    sobelx = cv2.Sobel(intactDetails,cv2.CV_64F,1,0,ksize=3)  # x\n",
    "    sobely = cv2.Sobel(intactDetails,cv2.CV_64F,0,1,ksize=3) \n",
    "\n",
    "    edge_map2=np.hypot(sobelx,sobely)\n",
    "    edge_map=cv2.threshold(scale(edge_map2).astype('uint8'), 0, 1, cv2.THRESH_BINARY | cv2.THRESH_OTSU)[1]\n",
    "    \n",
    "    if show_debug_output:\n",
    "        print(\"Edge Map Made\")\n",
    "\n",
    "    # neighbourhood calc\n",
    "\n",
    "    neighborhood = [(x1, x1+N, y1, y1+N) for x1 in range(Q_x1-N, Q_x2+N) for y1 in range(Q_y1-N, Q_y2+N)]\n",
    "    source_patch_edge = edge_map[x1:x2, y1:y2]\n",
    "\n",
    "    min_diff = 100000\n",
    "\n",
    "    target_patch = (0,0,0,0)\n",
    "\n",
    "    for n in neighborhood:\n",
    "        if n[1] >= a or n[3] >= b or n[0] < 0 or n[2] < 0:\n",
    "            continue\n",
    "    #     print(\"tmp:\",  tmp_patch_edge.shape, n[2], n[3])\n",
    "        tmp_patch_edge = edge_map[n[0]:n[1], n[2]:n[3]]\n",
    "        if np.sum((tmp_patch_edge - source_patch_edge)**2) < min_diff:\n",
    "            target_patch = n\n",
    "            min_diff = np.sum((tmp_patch_edge - source_patch_edge)**2)\n",
    "\n",
    "    if show_debug_output:\n",
    "        print(\"Neighbourhood calc done\")\n",
    "   \n",
    "    if texture==0:\n",
    "        tmp = np.copy(input_texture)\n",
    "        dm = delta_map[target_patch[0]:target_patch[1], target_patch[2]:target_patch[3]]\n",
    "        dm = np.dstack((dm, dm, dm))\n",
    "        textureSynth = input_texture[x1:x2, y1:y2] * (1-dm) + input_texture[target_patch[0]:target_patch[1], target_patch[2]:target_patch[3]] * dm\n",
    "\n",
    "        tmp[x1:x2, y1:y2] = textureSynth\n",
    "        \n",
    "        if size is not None:\n",
    "            plt.figure(figsize=size)\n",
    "            plt.subplot(121)\n",
    "            plt.imshow(input_texture)\n",
    "            plt.subplot(122)\n",
    "            plt.imshow(tmp)\n",
    "            plt.show()\n",
    "        \n",
    "        return tmp\n",
    "    \n",
    "    else: \n",
    "        tmp = np.copy(input_texture)\n",
    "        dm = delta_map[target_patch[0]:target_patch[1], target_patch[2]:target_patch[3]]\n",
    "        dm = np.dstack((dm, dm, dm))\n",
    "        textureSynth = input_texture[x1:x2, y1:y2] * (1-dm) + input_texture[target_patch[0]:target_patch[1], target_patch[2]:target_patch[3]] * dm\n",
    "\n",
    "        tmp[x1:x2, y1:y2] = textureSynth\n",
    "\n",
    "        textureSynth = transfer(input_texture, tmp, N)\n",
    "\n",
    "        if size is not None:\n",
    "            plt.figure(figsize=size)\n",
    "            plt.subplot(121)\n",
    "            plt.imshow(input_texture)\n",
    "            plt.subplot(122)\n",
    "            plt.imshow(textureSynth)\n",
    "        \n",
    "        return textureSynth"
   ]
  },
  {
   "cell_type": "markdown",
   "metadata": {},
   "source": [
    "## ----- Testing -----"
   ]
  },
  {
   "cell_type": "code",
   "execution_count": 50,
   "metadata": {},
   "outputs": [],
   "source": [
    "if run_tests:\n",
    "    _ = weathering('texture8.png')"
   ]
  },
  {
   "cell_type": "code",
   "execution_count": 51,
   "metadata": {},
   "outputs": [],
   "source": [
    "if run_tests:\n",
    "    input_image = 'texture8.png'\n",
    "\n",
    "    input_texture = cv2.imread('../images/' + input_image)\n",
    "    input_texture = cv2.cvtColor(input_texture, cv2.COLOR_BGR2RGB)\n",
    "\n",
    "    intact_texture_img, med_img = intact_texture(input_image, ret_medImg=True)\n",
    "\n",
    "    inpDetails, inpGrad = decouple(input_texture)\n",
    "    intactDetails, intactGrad = decouple(intact_texture_img)\n",
    "\n",
    "    # generating delta map\n",
    "    delta_map = scale((inpDetails-intactDetails) + (inpGrad-intactGrad), 1)\n",
    "\n",
    "    plt.figure(figsize=(20,5))\n",
    "    plt.subplot(131)\n",
    "    plt.imshow(input_texture)\n",
    "    plt.subplot(132)\n",
    "    plt.imshow(intact_texture_img)\n",
    "    plt.subplot(133)\n",
    "    plt.imshow(delta_map, cmap=\"gist_heat\")"
   ]
  },
  {
   "cell_type": "code",
   "execution_count": 52,
   "metadata": {},
   "outputs": [],
   "source": [
    "if run_tests:\n",
    "    age_map = generate_age_map(inpDetails, inpGrad, 20, 100/np.product(inpDetails.shape))\n",
    "    age_map = cv2.GaussianBlur(age_map,(41, 41), 0)\n",
    "    age_map = scale(age_map, 1)\n",
    "\n",
    "    a, b, _ = input_texture.shape\n",
    "    N = a//4\n",
    "    x1 = a//4\n",
    "    x2 = a//4 + N\n",
    "    y1 = b//4\n",
    "    y2 = b//4 + N\n",
    "\n",
    "    source_patch = input_texture[x1:x2, y1:y2, :]\n",
    "    m = np.amax(delta_map[x1:x2, y1:y2])\n",
    "\n",
    "    print(m)"
   ]
  },
  {
   "cell_type": "code",
   "execution_count": 53,
   "metadata": {},
   "outputs": [],
   "source": [
    "if run_tests:\n",
    "    temp=input_texture[60:60+N,20:20+N]\n",
    "    plt.imshow(temp)\n",
    "    print(np.median(delta_map[60:60+N,20:20+N]))"
   ]
  },
  {
   "cell_type": "code",
   "execution_count": 54,
   "metadata": {},
   "outputs": [],
   "source": [
    "if run_tests:\n",
    "    a, b, _ = input_texture.shape\n",
    "\n",
    "    N = np.random.randint(a//8,a//4)\n",
    "    x1,y1=np.random.randint(0,a-N),np.random.randint(0,b-N)\n",
    "    x1,y1=60,20\n",
    "\n",
    "    x2,y2=x1+N,y1+N\n",
    "\n",
    "    print(N,x1,y1)\n",
    "\n",
    "    # x1,y1\n",
    "    source_patch = input_texture[x1:x2, y1:y2, :]\n",
    "    m = np.median(delta_map[x1:x2, y1:y2])\n",
    "\n",
    "    print(m)\n",
    "\n",
    "    m2=max(1,m+0.1*m)\n",
    "    centres=np.where(np.logical_and(age_map>m,age_map<=m2 ))"
   ]
  },
  {
   "cell_type": "code",
   "execution_count": 55,
   "metadata": {},
   "outputs": [],
   "source": [
    "if run_tests:\n",
    "    i = np.random.randint(0,len(centres[0])-1)\n",
    "    Q_x1,Q_x2,Q_y1,Q_y2 = Qxy(centres,N,i)   \n",
    "    print(Q_x1,Q_x2,Q_y1,Q_y2)\n",
    "    \n",
    "    plt.figure(figsize=(20,5))\n",
    "    plt.subplot(141)\n",
    "    plt.imshow(input_texture[x1:x2,y1:y2])\n",
    "    plt.subplot(143)\n",
    "    plt.imshow(delta_map[Q_x1:Q_x2,Q_y1:Q_y2],cmap=\"gist_heat\")\n",
    "    plt.subplot(142)\n",
    "    plt.imshow(delta_map[x1:x2,y1:y2], cmap=\"gist_heat\")\n",
    "    plt.subplot(144)\n",
    "    plt.imshow(input_texture[Q_x1:Q_x2,Q_y1:Q_y2])"
   ]
  },
  {
   "cell_type": "code",
   "execution_count": 56,
   "metadata": {},
   "outputs": [],
   "source": [
    "# edge map calc\n",
    "\n",
    "if run_tests:\n",
    "    # med_img2=decouple(med_img,type=2).astype('float64')\n",
    "\n",
    "    # sobelx = cv2.Sobel(med_img2,cv2.CV_64F,1,0,ksize=3)  # x\n",
    "    # sobely = cv2.Sobel(med_img2,cv2.CV_64F,0,1,ksize=3)  # y\n",
    "\n",
    "    sobelx = cv2.Sobel(intactDetails,cv2.CV_64F,1,0,ksize=3)  # x\n",
    "    sobely = cv2.Sobel(intactDetails,cv2.CV_64F,0,1,ksize=3) \n",
    "\n",
    "    edge_map2=np.hypot(sobelx,sobely)\n",
    "    print(edge_map2.dtype)\n",
    "    print_range(scale(edge_map2))\n",
    "    edge_map=cv2.threshold(scale(edge_map2).astype('uint8'), 0, 1, cv2.THRESH_BINARY | cv2.THRESH_OTSU)[1]\n",
    "\n",
    "\n",
    "    plt.imshow(edge_map,cmap='gray')\n",
    "\n",
    "    #neighbourhood calc\n",
    "\n",
    "    neighborhood = [(x1, x1+N, y1, y1+N) for x1 in range(Q_x1-N, Q_x2+N) for y1 in range(Q_y1-N, Q_y2+N)]\n",
    "    source_patch_edge = edge_map[x1:x2, y1:y2]\n",
    "\n",
    "    min_diff = 100000\n",
    "\n",
    "    target_patch = (0,0,0,0)\n",
    "\n",
    "    for n in neighborhood:\n",
    "        if n[1] >= a or n[3] >= b or n[0] < 0 or n[2] < 0:\n",
    "            continue\n",
    "    #     print(\"tmp:\",  tmp_patch_edge.shape, n[2], n[3])\n",
    "        tmp_patch_edge = edge_map[n[0]:n[1], n[2]:n[3]]\n",
    "        if np.sum((tmp_patch_edge - source_patch_edge)**2) < min_diff:\n",
    "            target_patch = n\n",
    "            min_diff = np.sum((tmp_patch_edge - source_patch_edge)**2)\n",
    "\n",
    "    # print(Q_x1, Q_x2, Q_y1, Q_y2)\n",
    "    print(target_patch)\n",
    "\n",
    "    plt.figure(figsize=(20,5))\n",
    "    plt.subplot(141)\n",
    "    plt.imshow(input_texture[x1:x2, y1:y2])\n",
    "    plt.subplot(142)\n",
    "    plt.imshow(input_texture[target_patch[0]:target_patch[1], target_patch[2]:target_patch[3]])\n",
    "    plt.subplot(143)\n",
    "    plt.imshow(med_img[target_patch[0]:target_patch[1], target_patch[2]:target_patch[3]])\n",
    "    plt.subplot(144)\n",
    "    plt.imshow(edge_map[target_patch[0]:target_patch[1], target_patch[2]:target_patch[3]])"
   ]
  },
  {
   "cell_type": "code",
   "execution_count": 57,
   "metadata": {},
   "outputs": [],
   "source": [
    "# not using texture transfer\n",
    "if run_tests:\n",
    "\n",
    "    tmp = np.copy(input_texture)\n",
    "    dm = delta_map[target_patch[0]:target_patch[1], target_patch[2]:target_patch[3]]\n",
    "    dm = np.dstack((dm, dm, dm))\n",
    "    textureSynth = input_texture[x1:x2, y1:y2] * (1-dm) + input_texture[target_patch[0]:target_patch[1], target_patch[2]:target_patch[3]] * dm\n",
    "\n",
    "    tmp[x1:x2, y1:y2] = textureSynth\n",
    "\n",
    "    plt.figure(figsize=(20,5))\n",
    "    plt.subplot(121)\n",
    "    plt.imshow(input_texture)\n",
    "    plt.subplot(122)\n",
    "    plt.imshow(tmp)"
   ]
  },
  {
   "cell_type": "code",
   "execution_count": 58,
   "metadata": {},
   "outputs": [],
   "source": [
    "# using texture transfer\n",
    "\n",
    "if run_tests:\n",
    "    tmp = np.copy(input_texture)\n",
    "    dm = delta_map[target_patch[0]:target_patch[1], target_patch[2]:target_patch[3]]\n",
    "    dm = np.dstack((dm, dm, dm))\n",
    "    textureSynth = input_texture[x1:x2, y1:y2] * (1-dm) + input_texture[target_patch[0]:target_patch[1], target_patch[2]:target_patch[3]] * dm\n",
    "\n",
    "    tmp[x1:x2, y1:y2] = textureSynth\n",
    "\n",
    "    textureSynth = transfer(input_texture, tmp, N)\n",
    "\n",
    "    plt.figure(figsize=(20,5))\n",
    "    plt.subplot(121)\n",
    "    plt.imshow(input_texture)\n",
    "    plt.subplot(122)\n",
    "    plt.imshow(textureSynth)"
   ]
  },
  {
   "cell_type": "markdown",
   "metadata": {},
   "source": [
    "# Results"
   ]
  },
  {
   "cell_type": "code",
   "execution_count": 95,
   "metadata": {},
   "outputs": [],
   "source": [
    "def processImages(imgPaths):\n",
    "    for img in imgPaths:\n",
    "        print(\"Processing\", img.split('/')[-1])\n",
    "        input_image = cv2.imread(img)\n",
    "        input_image = cv2.cvtColor(input_image, cv2.COLOR_BGR2RGB)\n",
    "\n",
    "        details, gradient = decouple(input_image)\n",
    "\n",
    "        age_map = generate_age_map(details, gradient, 20, 100/np.product(details.shape))\n",
    "        age_map = cv2.GaussianBlur(age_map,(41, 41),0)\n",
    "        age_map = scale(age_map, 1)\n",
    "\n",
    "        input_intact, block_size = intact_texture(input_image, ret_bsize=True)\n",
    "\n",
    "        weathered = []\n",
    "        weathered_old = np.copy(input_image)\n",
    "        while len(weathered) < 3:\n",
    "            for i in range(5):\n",
    "                weathered_cur = weathering(weathered_old, age_map=age_map, intact_texture_img=input_intact, bsize=block_size,  flag=0, texture=1, size=None)\n",
    "                weathered_old = weathered_cur.copy()\n",
    "            weathered.append(weathered_cur)\n",
    "\n",
    "        deweathered = []\n",
    "        for t in [0.5, 0.9, 0.95]:\n",
    "            deweathered_t = deweather(input_image, t, details, gradient, input_intact, block_size, age_map)\n",
    "            deweathered.append(deweathered_t)\n",
    "\n",
    "        plt.figure(figsize=(20, 10))\n",
    "        plt.subplot(171).imshow(deweathered[0])\n",
    "        plt.title(\"<-- Deweathering --\")\n",
    "        plt.subplot(172).imshow(deweathered[1])\n",
    "        plt.subplot(173).imshow(deweathered[2])\n",
    "        plt.subplot(174).imshow(input_image)\n",
    "        plt.title(img.split('/')[-1])\n",
    "        plt.subplot(175).imshow(weathered[0])\n",
    "        plt.subplot(176).imshow(weathered[1])\n",
    "        plt.subplot(177).imshow(weathered[2])\n",
    "        plt.title(\"-- Weathering -->\")\n",
    "        plt.show()\n",
    "        \n",
    "        import os\n",
    "        from pathlib import Path\n",
    "        try:\n",
    "            cwd = Path(os.pardir)\n",
    "            output_dir = os.path.join(cwd, 'images', 'outputs', img.split('/')[-1].split('.')[0])\n",
    "            os.mkdir(output_dir)\n",
    "        except:\n",
    "            pass\n",
    "        \n",
    "        indx = 0\n",
    "        for w_img in weathered:\n",
    "            indx += 1\n",
    "            outPath = \"../images/outputs/\" + img.split('/')[-1].split('.')[0] + \"/weathered\" + str(indx) + \".jpeg\"\n",
    "            cv2.imwrite(outPath, cv2.cvtColor(w_img, cv2.COLOR_RGB2BGR))\n",
    "        \n",
    "        indx = 0\n",
    "        for d_img in deweathered:\n",
    "            indx += 1\n",
    "            outPath = \"../images/outputs/\" + img.split('/')[-1].split('.')[0] + \"/deweathered\" + str(indx) + \".jpeg\"\n",
    "            cv2.imwrite(outPath, cv2.cvtColor(d_img, cv2.COLOR_RGB2BGR))   "
   ]
  },
  {
   "cell_type": "code",
   "execution_count": 96,
   "metadata": {},
   "outputs": [
    {
     "name": "stdout",
     "output_type": "stream",
     "text": [
      "Processing small_inp.png\n",
      "Generating Deweathered Image...\n",
      "Done!\t\tmplete!....\n",
      "Generating Deweathered Image...\n",
      "Done!\t\tmplete!....\n",
      "Generating Deweathered Image...\n",
      "Done!\t\tmplete!....\n"
     ]
    },
    {
     "data": {
      "image/png": "[encoded data removed]",
      "text/plain": [
       "<Figure size 1440x720 with 7 Axes>"
      ]
     },
     "metadata": {
      "needs_background": "light"
     },
     "output_type": "display_data"
    }
   ],
   "source": [
    "# imgPaths = ['../images/' + x for x in ['texture0.png', 'texture1.jpeg', 'texture2.jpeg', 'texture3.jpeg', 'texture4.png', 'texture5.jpeg']]\n",
    "imgPaths = ['../images/' + x for x in ['texture0.png']]\n",
    "processImages(imgPaths)"
   ]
  },
  {
   "cell_type": "markdown",
   "metadata": {},
   "source": [
    "### ----- END -----"
   ]
  },
  {
   "cell_type": "code",
   "execution_count": null,
   "metadata": {},
   "outputs": [],
   "source": []
  }
 ],
 "metadata": {
  "kernelspec": {
   "display_name": "Python 3",
   "language": "python",
   "name": "python3"
  },
  "language_info": {
   "codemirror_mode": {
    "name": "ipython",
    "version": 3
   },
   "file_extension": ".py",
   "mimetype": "text/x-python",
   "name": "python",
   "nbconvert_exporter": "python",
   "pygments_lexer": "ipython3",
   "version": "3.8.3"
  }
 },
 "nbformat": 4,
 "nbformat_minor": 4
}
